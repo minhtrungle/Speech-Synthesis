{
 "cells": [
  {
   "cell_type": "code",
   "execution_count": 59,
   "metadata": {},
   "outputs": [
    {
     "name": "stdout",
     "output_type": "stream",
     "text": [
      "Xe.wav Xe\n",
      "Sampling rate: 16000 Hz\n",
      "len(signal): 12800\n",
      "Output in CSV file. Open with \"soffice speech-f0estimate-Xe.csv\", choose comma separator, click on the left of row 1, then Insert, then Chart, then format the chart as a scatter plot.\n",
      "Output file names:\n",
      "\tspeech-f0estimate-Xe.csv\n",
      "\tspeech-waveform-Xe.png\n",
      "\tspeech-FMandAMenvelopes-Xe.png\n",
      "\tspeech-spectrogram-Xe.png\n",
      "\tspeech-full-Xe.png\n",
      "Figure(1200x900)\n"
     ]
    },
    {
     "name": "stderr",
     "output_type": "stream",
     "text": [
      "The system cannot find the path specified.\n"
     ]
    }
   ],
   "source": [
    "!python 1.py Xe.wav fairlyhigh single"
   ]
  },
  {
   "cell_type": "code",
   "execution_count": 60,
   "metadata": {},
   "outputs": [
    {
     "data": {
      "text/html": [
       "<div>\n",
       "<style scoped>\n",
       "    .dataframe tbody tr th:only-of-type {\n",
       "        vertical-align: middle;\n",
       "    }\n",
       "\n",
       "    .dataframe tbody tr th {\n",
       "        vertical-align: top;\n",
       "    }\n",
       "\n",
       "    .dataframe thead th {\n",
       "        text-align: right;\n",
       "    }\n",
       "</style>\n",
       "<table border=\"1\" class=\"dataframe\">\n",
       "  <thead>\n",
       "    <tr style=\"text-align: right;\">\n",
       "      <th></th>\n",
       "      <th>speech-Xe</th>\n",
       "      <th>0.0</th>\n",
       "      <th>0.010126582278481013</th>\n",
       "      <th>0.020253164556962026</th>\n",
       "      <th>0.03037974683544304</th>\n",
       "      <th>0.04050632911392405</th>\n",
       "      <th>0.05063291139240507</th>\n",
       "      <th>0.06075949367088608</th>\n",
       "      <th>0.07088607594936709</th>\n",
       "      <th>0.0810126582278481</th>\n",
       "      <th>...</th>\n",
       "      <th>0.708860759493671</th>\n",
       "      <th>0.718987341772152</th>\n",
       "      <th>0.729113924050633</th>\n",
       "      <th>0.7392405063291141</th>\n",
       "      <th>0.7493670886075949</th>\n",
       "      <th>0.759493670886076</th>\n",
       "      <th>0.7696202531645571</th>\n",
       "      <th>0.779746835443038</th>\n",
       "      <th>0.7898734177215191</th>\n",
       "      <th>0.8</th>\n",
       "    </tr>\n",
       "  </thead>\n",
       "  <tbody>\n",
       "    <tr>\n",
       "      <th>0</th>\n",
       "      <td>Xe</td>\n",
       "      <td>0.0</td>\n",
       "      <td>0.0</td>\n",
       "      <td>0.0</td>\n",
       "      <td>0.0</td>\n",
       "      <td>0.0</td>\n",
       "      <td>0.0</td>\n",
       "      <td>0.0</td>\n",
       "      <td>0.0</td>\n",
       "      <td>0.0</td>\n",
       "      <td>...</td>\n",
       "      <td>242.424242</td>\n",
       "      <td>235.294118</td>\n",
       "      <td>235.294118</td>\n",
       "      <td>238.80597</td>\n",
       "      <td>250.0</td>\n",
       "      <td>250.0</td>\n",
       "      <td>238.80597</td>\n",
       "      <td>238.80597</td>\n",
       "      <td>235.294118</td>\n",
       "      <td>0.0</td>\n",
       "    </tr>\n",
       "  </tbody>\n",
       "</table>\n",
       "<p>1 rows × 81 columns</p>\n",
       "</div>"
      ],
      "text/plain": [
       "  speech-Xe  0.0  0.010126582278481013  0.020253164556962026  \\\n",
       "0        Xe  0.0                   0.0                   0.0   \n",
       "\n",
       "   0.03037974683544304  0.04050632911392405  0.05063291139240507  \\\n",
       "0                  0.0                  0.0                  0.0   \n",
       "\n",
       "   0.06075949367088608  0.07088607594936709  0.0810126582278481  ...  \\\n",
       "0                  0.0                  0.0                 0.0  ...   \n",
       "\n",
       "   0.708860759493671  0.718987341772152  0.729113924050633  \\\n",
       "0         242.424242         235.294118         235.294118   \n",
       "\n",
       "   0.7392405063291141  0.7493670886075949  0.759493670886076  \\\n",
       "0           238.80597               250.0              250.0   \n",
       "\n",
       "   0.7696202531645571  0.779746835443038  0.7898734177215191  0.8  \n",
       "0           238.80597          238.80597          235.294118  0.0  \n",
       "\n",
       "[1 rows x 81 columns]"
      ]
     },
     "execution_count": 60,
     "metadata": {},
     "output_type": "execute_result"
    }
   ],
   "source": [
    "import pandas as pd\n",
    "\n",
    "df = pd.read_csv('speech-f0estimate-Xe.csv')\n",
    "df"
   ]
  },
  {
   "cell_type": "code",
   "execution_count": 82,
   "metadata": {},
   "outputs": [
    {
     "name": "stdout",
     "output_type": "stream",
     "text": [
      "Tần số cơ bản F0 =  266.6666666666667\n"
     ]
    }
   ],
   "source": [
    "f = (df.values)[0]\n",
    "f = np.delete(f, 0)\n",
    "print('Tần số cơ bản F0 = ', max(f))"
   ]
  }
 ],
 "metadata": {
  "kernelspec": {
   "display_name": "Python 3",
   "language": "python",
   "name": "python3"
  },
  "language_info": {
   "codemirror_mode": {
    "name": "ipython",
    "version": 3
   },
   "file_extension": ".py",
   "mimetype": "text/x-python",
   "name": "python",
   "nbconvert_exporter": "python",
   "pygments_lexer": "ipython3",
   "version": "3.8.5"
  }
 },
 "nbformat": 4,
 "nbformat_minor": 4
}
